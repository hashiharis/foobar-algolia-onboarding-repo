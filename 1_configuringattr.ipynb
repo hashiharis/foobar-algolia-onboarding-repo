{
 "cells": [
  {
   "cell_type": "code",
   "execution_count": 2,
   "metadata": {},
   "outputs": [],
   "source": [
    "# Upload data to Algolia index\n",
    "from algoliasearch.search_client import SearchClient\n",
    "\n",
    "#Start the search client\n",
    "\n",
    "client = SearchClient.create('testingRR289Y7D9N','7d86858c421afc48c26562605348cdb8')"
   ]
  },
  {
   "cell_type": "code",
   "execution_count": 4,
   "metadata": {},
   "outputs": [
    {
     "data": {
      "text/plain": [
       "<algoliasearch.responses.IndexingResponse at 0x1051e6500>"
      ]
     },
     "execution_count": 4,
     "metadata": {},
     "output_type": "execute_result"
    }
   ],
   "source": [
    "index = client.init_index('Ikea_testdata')\n",
    "\n",
    "# Setting the searchable attributes\n",
    "index.set_settings({\n",
    "    'searchableAttributes':[\n",
    "        'unordered(name)',\n",
    "        'unordered(designer)',\n",
    "        'unordered(category)',\n",
    "        \n",
    "    ]\n",
    "})\n",
    "\n"
   ]
  },
  {
   "cell_type": "code",
   "execution_count": 5,
   "metadata": {},
   "outputs": [
    {
     "data": {
      "text/plain": [
       "<algoliasearch.responses.IndexingResponse at 0x1051627d0>"
      ]
     },
     "execution_count": 5,
     "metadata": {},
     "output_type": "execute_result"
    }
   ],
   "source": [
    "#Setting the custom ranking attribute\n",
    "index.set_settings({\n",
    "    'customRanking':[\n",
    "        'asc(price)'\n",
    "    ]\n",
    "})"
   ]
  }
 ],
 "metadata": {
  "interpreter": {
   "hash": "aee8b7b246df8f9039afb4144a1f6fd8d2ca17a180786b69acc140d282b71a49"
  },
  "kernelspec": {
   "display_name": "Python 3.10.2 64-bit",
   "language": "python",
   "name": "python3"
  },
  "language_info": {
   "codemirror_mode": {
    "name": "ipython",
    "version": 3
   },
   "file_extension": ".py",
   "mimetype": "text/x-python",
   "name": "python",
   "nbconvert_exporter": "python",
   "pygments_lexer": "ipython3",
   "version": "3.10.2"
  },
  "orig_nbformat": 4
 },
 "nbformat": 4,
 "nbformat_minor": 2
}
